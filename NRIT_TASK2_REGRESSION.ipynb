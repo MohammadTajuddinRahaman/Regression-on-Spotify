{
 "cells": [
  {
   "cell_type": "markdown",
   "id": "d094dfe9-eff1-4fab-92f6-122c0846d995",
   "metadata": {},
   "source": [
    "# How can we build a machine learning model in Python that accurately predicts a song's popularity—using features like audio characteristics (e.g. energy, loudness, danceability), metadata (e.g. genre, artist), and historical performance—to classify or score its potential success?"
   ]
  },
  {
   "cell_type": "code",
   "execution_count": 1,
   "id": "658ece7c-b3b7-4634-916c-439d0f052e3f",
   "metadata": {},
   "outputs": [
    {
     "name": "stdout",
     "output_type": "stream",
     "text": [
      "Requirement already satisfied: xgboost in c:\\users\\tajud\\anaconda3\\lib\\site-packages (3.0.2)\n",
      "Requirement already satisfied: numpy in c:\\users\\tajud\\anaconda3\\lib\\site-packages (from xgboost) (1.26.4)\n",
      "Requirement already satisfied: scipy in c:\\users\\tajud\\anaconda3\\lib\\site-packages (from xgboost) (1.13.1)\n"
     ]
    }
   ],
   "source": [
    "!pip install xgboost"
   ]
  },
  {
   "cell_type": "code",
   "execution_count": 37,
   "id": "4019c5e3-9ba4-4765-86f3-5871c7f99f06",
   "metadata": {},
   "outputs": [],
   "source": [
    "# Step 1: Import Libraries\n",
    "import pandas as pd\n",
    "import numpy as np\n",
    "from sklearn.model_selection import train_test_split\n",
    "from sklearn.preprocessing import LabelEncoder, StandardScaler\n",
    "from sklearn.linear_model import LinearRegression, Ridge\n",
    "from sklearn.ensemble import RandomForestRegressor\n",
    "from sklearn.metrics import mean_squared_error, r2_score\n",
    "import matplotlib.pyplot as plt\n",
    "import seaborn as sns\n",
    "from xgboost import XGBRegressor"
   ]
  },
  {
   "cell_type": "code",
   "execution_count": 5,
   "id": "ec3b7dfd-66fd-49e0-ad1e-7695d2adc6aa",
   "metadata": {},
   "outputs": [],
   "source": [
    "# Step 2: Load Dataset\n",
    "df = pd.read_csv(r\"C:\\Users\\tajud\\OneDrive\\Desktop\\NRIT\\sudents and projects\\S2\\Reression\\Spotify_data.csv\")"
   ]
  },
  {
   "cell_type": "code",
   "execution_count": 19,
   "id": "9f4029b2-95b2-4f54-adeb-c5a7e1931e85",
   "metadata": {},
   "outputs": [
    {
     "data": {
      "text/html": [
       "<div>\n",
       "<style scoped>\n",
       "    .dataframe tbody tr th:only-of-type {\n",
       "        vertical-align: middle;\n",
       "    }\n",
       "\n",
       "    .dataframe tbody tr th {\n",
       "        vertical-align: top;\n",
       "    }\n",
       "\n",
       "    .dataframe thead th {\n",
       "        text-align: right;\n",
       "    }\n",
       "</style>\n",
       "<table border=\"1\" class=\"dataframe\">\n",
       "  <thead>\n",
       "    <tr style=\"text-align: right;\">\n",
       "      <th></th>\n",
       "      <th>Unnamed: 0</th>\n",
       "      <th>Track Name</th>\n",
       "      <th>Artists</th>\n",
       "      <th>Album Name</th>\n",
       "      <th>Album ID</th>\n",
       "      <th>Track ID</th>\n",
       "      <th>Popularity</th>\n",
       "      <th>Release Date</th>\n",
       "      <th>Duration (ms)</th>\n",
       "      <th>Explicit</th>\n",
       "      <th>...</th>\n",
       "      <th>Energy</th>\n",
       "      <th>Key</th>\n",
       "      <th>Loudness</th>\n",
       "      <th>Mode</th>\n",
       "      <th>Speechiness</th>\n",
       "      <th>Acousticness</th>\n",
       "      <th>Instrumentalness</th>\n",
       "      <th>Liveness</th>\n",
       "      <th>Valence</th>\n",
       "      <th>Tempo</th>\n",
       "    </tr>\n",
       "  </thead>\n",
       "  <tbody>\n",
       "    <tr>\n",
       "      <th>0</th>\n",
       "      <td>0</td>\n",
       "      <td>104</td>\n",
       "      <td>93</td>\n",
       "      <td>107</td>\n",
       "      <td>150</td>\n",
       "      <td>172</td>\n",
       "      <td>96</td>\n",
       "      <td>163</td>\n",
       "      <td>274192</td>\n",
       "      <td>True</td>\n",
       "      <td>...</td>\n",
       "      <td>0.472</td>\n",
       "      <td>1</td>\n",
       "      <td>-7.001</td>\n",
       "      <td>1</td>\n",
       "      <td>0.0776</td>\n",
       "      <td>0.0107</td>\n",
       "      <td>0.000000</td>\n",
       "      <td>0.1410</td>\n",
       "      <td>0.214</td>\n",
       "      <td>101.061</td>\n",
       "    </tr>\n",
       "    <tr>\n",
       "      <th>1</th>\n",
       "      <td>1</td>\n",
       "      <td>59</td>\n",
       "      <td>65</td>\n",
       "      <td>66</td>\n",
       "      <td>179</td>\n",
       "      <td>65</td>\n",
       "      <td>94</td>\n",
       "      <td>173</td>\n",
       "      <td>227239</td>\n",
       "      <td>True</td>\n",
       "      <td>...</td>\n",
       "      <td>0.887</td>\n",
       "      <td>9</td>\n",
       "      <td>-2.760</td>\n",
       "      <td>0</td>\n",
       "      <td>0.0683</td>\n",
       "      <td>0.0292</td>\n",
       "      <td>0.000002</td>\n",
       "      <td>0.0582</td>\n",
       "      <td>0.889</td>\n",
       "      <td>127.003</td>\n",
       "    </tr>\n",
       "    <tr>\n",
       "      <th>2</th>\n",
       "      <td>2</td>\n",
       "      <td>16</td>\n",
       "      <td>44</td>\n",
       "      <td>21</td>\n",
       "      <td>124</td>\n",
       "      <td>203</td>\n",
       "      <td>91</td>\n",
       "      <td>170</td>\n",
       "      <td>140733</td>\n",
       "      <td>True</td>\n",
       "      <td>...</td>\n",
       "      <td>0.764</td>\n",
       "      <td>11</td>\n",
       "      <td>-5.241</td>\n",
       "      <td>1</td>\n",
       "      <td>0.2040</td>\n",
       "      <td>0.3590</td>\n",
       "      <td>0.000000</td>\n",
       "      <td>0.1190</td>\n",
       "      <td>0.886</td>\n",
       "      <td>140.113</td>\n",
       "    </tr>\n",
       "    <tr>\n",
       "      <th>3</th>\n",
       "      <td>3</td>\n",
       "      <td>63</td>\n",
       "      <td>53</td>\n",
       "      <td>69</td>\n",
       "      <td>24</td>\n",
       "      <td>82</td>\n",
       "      <td>90</td>\n",
       "      <td>158</td>\n",
       "      <td>149668</td>\n",
       "      <td>False</td>\n",
       "      <td>...</td>\n",
       "      <td>0.714</td>\n",
       "      <td>1</td>\n",
       "      <td>-4.617</td>\n",
       "      <td>0</td>\n",
       "      <td>0.0309</td>\n",
       "      <td>0.0375</td>\n",
       "      <td>0.000000</td>\n",
       "      <td>0.2320</td>\n",
       "      <td>0.554</td>\n",
       "      <td>129.976</td>\n",
       "    </tr>\n",
       "    <tr>\n",
       "      <th>4</th>\n",
       "      <td>4</td>\n",
       "      <td>113</td>\n",
       "      <td>87</td>\n",
       "      <td>115</td>\n",
       "      <td>165</td>\n",
       "      <td>114</td>\n",
       "      <td>89</td>\n",
       "      <td>157</td>\n",
       "      <td>144846</td>\n",
       "      <td>False</td>\n",
       "      <td>...</td>\n",
       "      <td>0.936</td>\n",
       "      <td>9</td>\n",
       "      <td>-6.294</td>\n",
       "      <td>1</td>\n",
       "      <td>0.3010</td>\n",
       "      <td>0.0229</td>\n",
       "      <td>0.000001</td>\n",
       "      <td>0.3110</td>\n",
       "      <td>0.844</td>\n",
       "      <td>151.019</td>\n",
       "    </tr>\n",
       "  </tbody>\n",
       "</table>\n",
       "<p>5 rows × 22 columns</p>\n",
       "</div>"
      ],
      "text/plain": [
       "   Unnamed: 0  Track Name  Artists  Album Name  Album ID  Track ID  \\\n",
       "0           0         104       93         107       150       172   \n",
       "1           1          59       65          66       179        65   \n",
       "2           2          16       44          21       124       203   \n",
       "3           3          63       53          69        24        82   \n",
       "4           4         113       87         115       165       114   \n",
       "\n",
       "   Popularity  Release Date  Duration (ms)  Explicit  ...  Energy  Key  \\\n",
       "0          96           163         274192      True  ...   0.472    1   \n",
       "1          94           173         227239      True  ...   0.887    9   \n",
       "2          91           170         140733      True  ...   0.764   11   \n",
       "3          90           158         149668     False  ...   0.714    1   \n",
       "4          89           157         144846     False  ...   0.936    9   \n",
       "\n",
       "   Loudness  Mode  Speechiness  Acousticness  Instrumentalness  Liveness  \\\n",
       "0    -7.001     1       0.0776        0.0107          0.000000    0.1410   \n",
       "1    -2.760     0       0.0683        0.0292          0.000002    0.0582   \n",
       "2    -5.241     1       0.2040        0.3590          0.000000    0.1190   \n",
       "3    -4.617     0       0.0309        0.0375          0.000000    0.2320   \n",
       "4    -6.294     1       0.3010        0.0229          0.000001    0.3110   \n",
       "\n",
       "   Valence    Tempo  \n",
       "0    0.214  101.061  \n",
       "1    0.889  127.003  \n",
       "2    0.886  140.113  \n",
       "3    0.554  129.976  \n",
       "4    0.844  151.019  \n",
       "\n",
       "[5 rows x 22 columns]"
      ]
     },
     "execution_count": 19,
     "metadata": {},
     "output_type": "execute_result"
    }
   ],
   "source": [
    "df.head()"
   ]
  },
  {
   "cell_type": "code",
   "execution_count": 7,
   "id": "e0de015f-8286-437b-97e3-99b44c82d0fa",
   "metadata": {},
   "outputs": [],
   "source": [
    "# Step 3: Drop Irrelevant or High-Cardinality Columns\n",
    "df = df.drop(columns=['track_id', 'track_name', 'album_name', 'artist_id'], errors='ignore')"
   ]
  },
  {
   "cell_type": "code",
   "execution_count": 9,
   "id": "e79f0989-1eef-4d49-a842-fb4b99b09589",
   "metadata": {},
   "outputs": [],
   "source": [
    "# Step 4: Handle Categorical Features\n",
    "categorical_cols = df.select_dtypes(include=['object']).columns\n",
    "le = LabelEncoder()\n",
    "for col in categorical_cols:\n",
    "    df[col] = le.fit_transform(df[col].astype(str))"
   ]
  },
  {
   "cell_type": "code",
   "execution_count": 11,
   "id": "c0b78178-d5f3-4ddc-9b5f-5b1885867df8",
   "metadata": {},
   "outputs": [],
   "source": [
    "# Step 5: Handle Missing Values\n",
    "df = df.dropna()  # Or use df.fillna(df.mean())"
   ]
  },
  {
   "cell_type": "code",
   "execution_count": 23,
   "id": "2b4d13ae-61b0-414d-9aba-7d0dea6439f5",
   "metadata": {},
   "outputs": [],
   "source": [
    "# Step 6: Feature Scaling\n",
    "X = df.drop('Popularity', axis=1)\n",
    "y = df['Popularity']\n",
    "scaler = StandardScaler()\n",
    "X_scaled = scaler.fit_transform(X)"
   ]
  },
  {
   "cell_type": "code",
   "execution_count": 25,
   "id": "820fa820-b1b8-49b4-b0e3-b8e4af2a934d",
   "metadata": {},
   "outputs": [],
   "source": [
    "# Step 7: Train-Test Split\n",
    "X_train, X_test, y_train, y_test = train_test_split(X_scaled, y, test_size=0.2, random_state=42)"
   ]
  },
  {
   "cell_type": "code",
   "execution_count": 39,
   "id": "a7709c3e-1f63-4258-b3cd-80215ee00375",
   "metadata": {},
   "outputs": [
    {
     "name": "stdout",
     "output_type": "stream",
     "text": [
      "Linear Regression:\n",
      "  RMSE: 6.95\n",
      "  R² Score: 0.2742\n",
      "\n",
      "Ridge Regression:\n",
      "  RMSE: 6.94\n",
      "  R² Score: 0.2767\n",
      "\n",
      "Random Forest:\n",
      "  RMSE: 5.59\n",
      "  R² Score: 0.5298\n",
      "\n",
      "XGBoost:\n",
      "  RMSE: 4.84\n",
      "  R² Score: 0.6486\n",
      "\n"
     ]
    }
   ],
   "source": [
    "# Step 8: Define and Train Regressors\n",
    "models = {\n",
    "    \"Linear Regression\": LinearRegression(),\n",
    "    \"Ridge Regression\": Ridge(alpha=1.0),\n",
    "    \"Random Forest\": RandomForestRegressor(n_estimators=100, random_state=42),\n",
    "     \"XGBoost\": XGBRegressor(n_estimators=100, random_state=42)\n",
    "    \n",
    "}\n",
    "results = {}\n",
    "for name, model in models.items():\n",
    "    model.fit(X_train, y_train)\n",
    "    y_pred = model.predict(X_test)\n",
    "    rmse = np.sqrt(mean_squared_error(y_test, y_pred))\n",
    "    r2 = r2_score(y_test, y_pred)\n",
    "    results[name] = {'RMSE': rmse, 'R²': r2}\n",
    "    print(f\"{name}:\")\n",
    "    print(f\"  RMSE: {rmse:.2f}\")\n",
    "    print(f\"  R² Score: {r2:.4f}\\n\")"
   ]
  },
  {
   "cell_type": "code",
   "execution_count": 41,
   "id": "570b932a-4414-46b1-9353-1fa7705985be",
   "metadata": {},
   "outputs": [
    {
     "data": {
      "image/png": "[encoded data removed]",
      "text/plain": [
       "<Figure size 1000x600 with 1 Axes>"
      ]
     },
     "metadata": {},
     "output_type": "display_data"
    }
   ],
   "source": [
    "# Step 9: Plot Comparison\n",
    "results_df = pd.DataFrame(results).T\n",
    "results_df.plot(kind='bar', figsize=(10,6), title='Regression Model Comparison')\n",
    "plt.xticks(rotation=45)\n",
    "plt.ylabel('Score')\n",
    "plt.grid(True)\n",
    "plt.tight_layout()\n",
    "plt.show()"
   ]
  },
  {
   "cell_type": "code",
   "execution_count": null,
   "id": "962d5f20-52ba-4fc3-bf6f-bfff1fedfbea",
   "metadata": {},
   "outputs": [],
   "source": []
  }
 ],
 "metadata": {
  "kernelspec": {
   "display_name": "Python [conda env:base] *",
   "language": "python",
   "name": "conda-base-py"
  },
  "language_info": {
   "codemirror_mode": {
    "name": "ipython",
    "version": 3
   },
   "file_extension": ".py",
   "mimetype": "text/x-python",
   "name": "python",
   "nbconvert_exporter": "python",
   "pygments_lexer": "ipython3",
   "version": "3.12.7"
  }
 },
 "nbformat": 4,
 "nbformat_minor": 5
}
